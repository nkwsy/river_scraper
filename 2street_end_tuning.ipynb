{
 "cells": [
  {
   "cell_type": "markdown",
   "metadata": {},
   "source": [
    "# Street End Parameter Tuning\n",
    "\n",
    "This notebook helps tune parameters for the street end finder algorithm and visualize results."
   ]
  },
  {
   "cell_type": "code",
   "execution_count": null,
   "metadata": {},
   "source": [
    "import sys\n",
    "sys.path.append('..')\n",
    "\n",
    "from main import StreetEndFinder\n",
    "from render_map import StreetEndRenderer\n",
    "from global_analysis import GlobalCityAnalyzer\n",
    "import folium\n",
    "from IPython.display import display, HTML, IFrame\n",
    "import pandas as pd\n",
    "import geopandas as gpd\n",
    "import matplotlib.pyplot as plt\n",
    "import seaborn as sns\n",
    "from pathlib import Path\n",
    "import json"
   ]
  },
  {
   "cell_type": "markdown",
   "metadata": {},
   "source": [
    "## Parameter Configuration\n",
    "\n",
    "Adjust these parameters to tune the algorithm"
   ]
  },
  {
   "cell_type": "code",
   "execution_count": null,
   "metadata": {},
   "source": [
    "# Test parameters\n",
    "params = {\n",
    "    'city': 'Skokie, USA',\n",
    "    'threshold_distance': 10,     # meters from water\n",
    "    'buffer_distance': 100,       # meters around water to search for streets\n",
    "    'min_point_spacing': 25,      # minimum meters between points\n",
    "    'find_street_ends': True,     # whether to find street ends\n",
    "    'enrich_data': True,         # whether to enrich with additional data\n",
    "    'update_existing': True      # whether to update existing analysis\n",
    "}\n",
    "\n",
    "# Display current parameters\n",
    "pd.DataFrame([params]).T"
   ]
  },
  {
   "cell_type": "markdown",
   "metadata": {},
   "source": [
    "## Run Single City Analysis"
   ]
  },
  {
   "cell_type": "code",
   "execution_count": null,
   "metadata": {},
   "source": [
    "def analyze_single_city(params):\n",
    "    \"\"\"Run analysis for a single city with given parameters\"\"\"\n",
    "    # Stage 1: Find street ends\n",
    "    finder = StreetEndFinder(\n",
    "        params['city'],\n",
    "        threshold_distance=params['threshold_distance']\n",
    "    )\n",
    "    water_features, near_water = finder.process()\n",
    "    \n",
    "    # Create initial visualization\n",
    "    renderer = StreetEndRenderer(\n",
    "        'street_ends_near_river.geojson',\n",
    "        params['city'],\n",
    "        threshold_distance=params['threshold_distance']\n",
    "    )\n",
    "    renderer.render('temp_map.html')\n",
    "    \n",
    "    return water_features, near_water, renderer\n",
    "\n",
    "# Run analysis\n",
    "water_features, near_water, renderer = analyze_single_city(params)\n",
    "\n",
    "# Display the map in the notebook\n",
    "display(IFrame(src='temp_map.html', width='100%', height=600))"
   ]
  },
  {
   "cell_type": "markdown",
   "metadata": {},
   "source": [
    "## Analysis Statistics"
   ]
  },
  {
   "cell_type": "code",
   "execution_count": null,
   "metadata": {},
   "source": [
    "def get_statistics(near_water, water_features):\n",
    "    \"\"\"Calculate and display statistics about the results\"\"\"\n",
    "    stats = {\n",
    "        'Total Water Features': len(water_features) if water_features is not None else 0,\n",
    "        'Total Street Ends Near Water': len(near_water),\n",
    "        'Average Distance to Water': np.mean([p['properties']['distance_to_water'] for p in near_water]) if near_water else 0,\n",
    "        'Min Distance to Water': min([p['properties']['distance_to_water'] for p in near_water]) if near_water else 0,\n",
    "        'Max Distance to Water': max([p['properties']['distance_to_water'] for p in near_water]) if near_water else 0\n",
    "    }\n",
    "    return pd.DataFrame([stats]).T\n",
    "\n",
    "get_statistics(near_water, water_features)"
   ]
  },
  {
   "cell_type": "markdown",
   "metadata": {},
   "source": [
    "## Distance Distribution"
   ]
  },
  {
   "cell_type": "code",
   "execution_count": null,
   "metadata": {},
   "source": [
    "def plot_distance_distribution(near_water):\n",
    "    \"\"\"Plot distribution of distances to water\"\"\"\n",
    "    distances = [point['properties']['distance_to_water'] for point in near_water]\n",
    "    \n",
    "    plt.figure(figsize=(10, 6))\n",
    "    sns.histplot(distances, bins=20)\n",
    "    plt.title('Distribution of Distances to Water')\n",
    "    plt.xlabel('Distance (meters)')\n",
    "    plt.ylabel('Count')\n",
    "    plt.show()\n",
    "\n",
    "plot_distance_distribution(near_water)"
   ]
  },
  {
   "cell_type": "markdown",
   "metadata": {},
   "source": [
    "## Multi-City Analysis"
   ]
  },
  {
   "cell_type": "code",
   "execution_count": null,
   "metadata": {},
   "source": [
    "def run_multi_city_analysis(cities, params):\n",
    "    \"\"\"Run analysis for multiple cities\"\"\"\n",
    "    # Stage 1: Find street ends\n",
    "    analyzer_stage1 = GlobalCityAnalyzer(\n",
    "        find_street_ends=params['find_street_ends'],\n",
    "        enrich_data=False,\n",
    "        update_existing=params['update_existing']\n",
    "    )\n",
    "    analyzer_stage1.run_global_analysis_stage1(target_cities=cities)\n",
    "    \n",
    "    # Stage 2: Enrich data\n",
    "    analyzer_stage2 = GlobalCityAnalyzer(\n",
    "        find_street_ends=False,\n",
    "        enrich_data=params['enrich_data'],\n",
    "        update_existing=params['update_existing']\n",
    "    )\n",
    "    results = analyzer_stage2.run_global_analysis_stage2(target_cities=cities)\n",
    "    \n",
    "    # Stage 3: Generate report\n",
    "    analyzer_stage3 = GlobalCityAnalyzer()\n",
    "    analyzer_stage3.run_global_analysis_stage3()\n",
    "    \n",
    "    return results\n",
    "\n",
    "# Example multi-city analysis\n",
    "cities_to_analyze = ['Skokie', 'Chicago']\n",
    "results = run_multi_city_analysis(cities_to_analyze, params)\n",
    "\n",
    "# Display the global report\n",
    "display(IFrame(src='global_report.html', width='100%', height=800))"
   ]
  },
  {
   "cell_type": "markdown",
   "metadata": {},
   "source": [
    "## Compare Cities"
   ]
  },
  {
   "cell_type": "code",
   "execution_count": null,
   "metadata": {},
   "source": [
    "def compare_cities(results):\n",
    "    \"\"\"Create comparative visualizations of cities\"\"\"\n",
    "    # Convert results to DataFrame\n",
    "    df = pd.DataFrame([\n",
    "        {\n",
    "            'city': r['properties']['city_name'],\n",
    "            'street_ends': r['properties']['total_street_ends'],\n",
    "            'population': r['properties']['population']\n",
    "        } for r in results\n",
    "    ])\n",
    "    \n",
    "    # Create comparison plots\n",
    "    fig, (ax1, ax2) = plt.subplots(1, 2, figsize=(15, 5))\n",
    "    \n",
    "    # Street ends by city\n",
    "    sns.barplot(data=df, x='city', y='street_ends', ax=ax1)\n",
    "    ax1.set_title('Street Ends by City')\n",
    "    ax1.tick_params(axis='x', rotation=45)\n",
    "    \n",
    "    # Street ends per capita\n",
    "    df['ends_per_capita'] = df['street_ends'] / df['population'] * 100000\n",
    "    sns.barplot(data=df, x='city', y='ends_per_capita', ax=ax2)\n",
    "    ax2.set_title('Street Ends per 100k Population')\n",
    "    ax2.tick_params(axis='x', rotation=45)\n",
    "    \n",
    "    plt.tight_layout()\n",
    "    plt.show()\n",
    "    \n",
    "    return df\n",
    "\n",
    "comparison_df = compare_cities(results)\n",
    "display(comparison_df)"
   ]
  }
 ],
 "metadata": {
  "kernelspec": {
   "display_name": "Python 3",
   "language": "python",
   "name": "python3"
  }
 },
 "nbformat": 4,
 "nbformat_minor": 4
}
